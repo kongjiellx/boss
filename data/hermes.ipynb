{
 "cells": [
  {
   "cell_type": "code",
   "execution_count": 10,
   "metadata": {},
   "outputs": [],
   "source": [
    "from datasets import load_dataset\n",
    "single_ds = load_dataset(\"NousResearch/hermes-function-calling-v1\", \"func_calling_singleturn\")\n",
    "multi_ds = load_dataset(\"NousResearch/hermes-function-calling-v1\", \"func_calling\")\n",
    "glaive_ds = load_dataset(\"NousResearch/hermes-function-calling-v1\", \"glaive_func_calling\")"
   ]
  },
  {
   "cell_type": "code",
   "execution_count": 100,
   "metadata": {},
   "outputs": [
    {
     "name": "stderr",
     "output_type": "stream",
     "text": [
      "Map: 100%|██████████| 5209/5209 [00:00<00:00, 7510.22 examples/s] \n",
      "Filter: 100%|██████████| 5209/5209 [00:00<00:00, 89076.06 examples/s]\n"
     ]
    },
    {
     "data": {
      "text/plain": [
       "Dataset({\n",
       "    features: ['id', 'conversations', 'tools', 'category', 'subcategory', 'task', 'source', 'functions'],\n",
       "    num_rows: 0\n",
       "})"
      ]
     },
     "execution_count": 100,
     "metadata": {},
     "output_type": "execute_result"
    }
   ],
   "source": [
    "import json\n",
    "import re\n",
    "from pprint import pprint\n",
    "\n",
    "\n",
    "def map_func(example):\n",
    "    messages = []\n",
    "    if example[\"id\"] == \"e39781a4-29a3-4896-83d2-0ab5d264b6ed\":\n",
    "        example[\"conversations\"] = messages\n",
    "        example[\"functions\"] = \"[]\"\n",
    "        return example\n",
    "    try:\n",
    "        for c in example[\"conversations\"]:\n",
    "            if c[\"from\"] == \"system\":\n",
    "                tools = re.search(r'<tools>\\n(.*?)\\n</tools>', c[\"value\"], re.DOTALL).group(1)\n",
    "                example[\"functions\"] = json.dumps(eval(tools), ensure_ascii=False)\n",
    "            elif c[\"from\"] == \"human\":\n",
    "                messages.append({\"role\": \"user\", \"content\": c[\"value\"]})\n",
    "            elif c[\"from\"] == \"gpt\":\n",
    "                tool_calls = re.findall(r'<tool_call>\\n(.*?)\\n</tool_call>', c[\"value\"], re.DOTALL)\n",
    "                if tool_calls:\n",
    "                    tool_calls = json.dumps([eval(t) for t in tool_calls], ensure_ascii=False)\n",
    "                    content = re.search(r'^(.*?)<tool_call>\\n', c[\"value\"], re.DOTALL).group(1)\n",
    "                else:\n",
    "                    content = c[\"value\"]\n",
    "                    tool_calls = \"[]\"\n",
    "                messages.append({\"role\": \"assistant\", \"content\": content, \"function_call\": tool_calls})\n",
    "            elif c[\"from\"] == \"tool\":\n",
    "                tool_rsps = re.findall(r'<tool_response>\\n(.*?)\\n</tool_response>', c[\"value\"], re.DOTALL)\n",
    "                tool_rsps = json.dumps([eval(t) for t in tool_rsps], ensure_ascii=False)\n",
    "                messages.append({\"role\": \"function\", \"content\": tool_rsps})\n",
    "    except:\n",
    "        messages = []\n",
    "        example[\"functions\"] = \"[]\"\n",
    "    example[\"conversations\"] = messages\n",
    "    return example\n",
    "\n",
    "\n",
    "glaive_ds[\"train\"].map(map_func).filter(lambda x: x[\"conversations\"])"
   ]
  },
  {
   "cell_type": "code",
   "execution_count": 108,
   "metadata": {},
   "outputs": [
    {
     "name": "stderr",
     "output_type": "stream",
     "text": [
      "Map: 100%|██████████| 5209/5209 [00:00<00:00, 6544.69 examples/s]\n",
      "Filter: 100%|██████████| 5209/5209 [00:00<00:00, 29842.97 examples/s]\n"
     ]
    },
    {
     "data": {
      "text/plain": [
       "Dataset({\n",
       "    features: ['id', 'conversations', 'tools', 'category', 'subcategory', 'task', 'source', 'functions'],\n",
       "    num_rows: 5208\n",
       "})"
      ]
     },
     "execution_count": 108,
     "metadata": {},
     "output_type": "execute_result"
    }
   ],
   "source": [
    "def glaive_map_func(example):\n",
    "    messages = []\n",
    "    try:\n",
    "        for c in example[\"conversations\"]:\n",
    "            if c[\"from\"] == \"human\":\n",
    "                messages.append({\"role\": \"user\", \"content\": c[\"value\"]})\n",
    "            elif c[\"from\"] == \"gpt\":\n",
    "                tool_calls = re.findall(r'<tool_call>\\n(.*?)\\n</tool_call>', c[\"value\"], re.DOTALL)\n",
    "                if tool_calls:\n",
    "                    tool_calls = json.dumps([eval(t) for t in tool_calls], ensure_ascii=False)\n",
    "                    content = re.search(r'^(.*?)<tool_call>\\n', c[\"value\"], re.DOTALL).group(1)\n",
    "                else:\n",
    "                    content = c[\"value\"]\n",
    "                    tool_calls = \"[]\"\n",
    "                messages.append({\"role\": \"assistant\", \"content\": content, \"function_call\": tool_calls})\n",
    "            elif c[\"from\"] == \"tool\":\n",
    "                tool_rsps = re.findall(r'<tool_response>\\n(.*?)\\n</tool_response>', c[\"value\"], re.DOTALL)\n",
    "                tool_rsps = json.dumps([eval(t) for t in tool_rsps], ensure_ascii=False)\n",
    "                messages.append({\"role\": \"function\", \"content\": tool_rsps})\n",
    "    except:\n",
    "        messages = []\n",
    "    if json.loads(example[\"tools\"]):\n",
    "        try:\n",
    "            example[\"functions\"] = json.dumps([t[\"function\"] for t in json.loads(example[\"tools\"])], ensure_ascii=False)\n",
    "        except:\n",
    "            messages = []\n",
    "            example[\"functions\"] = \"[]\"\n",
    "    else:\n",
    "        example[\"functions\"] = \"[]\"\n",
    "    example[\"conversations\"] = messages\n",
    "    return example\n",
    "\n",
    "\n",
    "glaive_ds[\"train\"].map(glaive_map_func).filter(lambda x: x[\"conversations\"])"
   ]
  },
  {
   "cell_type": "code",
   "execution_count": null,
   "metadata": {},
   "outputs": [],
   "source": []
  }
 ],
 "metadata": {
  "kernelspec": {
   "display_name": "venv",
   "language": "python",
   "name": "python3"
  },
  "language_info": {
   "codemirror_mode": {
    "name": "ipython",
    "version": 3
   },
   "file_extension": ".py",
   "mimetype": "text/x-python",
   "name": "python",
   "nbconvert_exporter": "python",
   "pygments_lexer": "ipython3",
   "version": "3.11.0"
  }
 },
 "nbformat": 4,
 "nbformat_minor": 2
}
